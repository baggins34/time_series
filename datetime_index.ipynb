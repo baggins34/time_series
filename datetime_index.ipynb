{
 "cells": [
  {
   "cell_type": "code",
   "execution_count": 1,
   "id": "94a74fd3",
   "metadata": {},
   "outputs": [],
   "source": [
    "from datetime import datetime"
   ]
  },
  {
   "cell_type": "code",
   "execution_count": 2,
   "id": "37ba3ad1",
   "metadata": {},
   "outputs": [],
   "source": [
    "my_year = 2022\n",
    "my_month = 7\n",
    "my_day = 11\n",
    "my_hour = 14\n",
    "my_minute = 30\n",
    "my_seconds = 50"
   ]
  },
  {
   "cell_type": "code",
   "execution_count": 3,
   "id": "e0cafac2",
   "metadata": {},
   "outputs": [
    {
     "data": {
      "text/plain": [
       "datetime.datetime(2022, 7, 11, 14, 30, 50)"
      ]
     },
     "execution_count": 3,
     "metadata": {},
     "output_type": "execute_result"
    }
   ],
   "source": [
    "my_date = datetime(my_year, my_month, my_day, my_hour, my_minute, my_seconds)\n",
    "my_date"
   ]
  },
  {
   "cell_type": "code",
   "execution_count": 4,
   "id": "418ff264",
   "metadata": {},
   "outputs": [
    {
     "data": {
      "text/plain": [
       "11"
      ]
     },
     "execution_count": 4,
     "metadata": {},
     "output_type": "execute_result"
    }
   ],
   "source": [
    "my_date.day"
   ]
  },
  {
   "cell_type": "code",
   "execution_count": 5,
   "id": "afe3acfe",
   "metadata": {},
   "outputs": [],
   "source": [
    "import numpy as np"
   ]
  },
  {
   "cell_type": "code",
   "execution_count": 6,
   "id": "20c52a6b",
   "metadata": {},
   "outputs": [
    {
     "data": {
      "text/plain": [
       "array(['2022-07-11', '2022-06-01'], dtype='datetime64[D]')"
      ]
     },
     "execution_count": 6,
     "metadata": {},
     "output_type": "execute_result"
    }
   ],
   "source": [
    "np.array(['2022-07-11', '2022-06-01'], dtype='datetime64')"
   ]
  },
  {
   "cell_type": "markdown",
   "id": "e4c9eb04",
   "metadata": {},
   "source": [
    "To pass a different type of precision such as year, we can use 'Y'"
   ]
  },
  {
   "cell_type": "code",
   "execution_count": 7,
   "id": "80a3c4d2",
   "metadata": {},
   "outputs": [
    {
     "data": {
      "text/plain": [
       "array(['2022', '2022'], dtype='datetime64[Y]')"
      ]
     },
     "execution_count": 7,
     "metadata": {},
     "output_type": "execute_result"
    }
   ],
   "source": [
    "np.array(['2022-07-11', '2022-06-01'], dtype='datetime64[Y]')"
   ]
  },
  {
   "cell_type": "markdown",
   "id": "eda2d145",
   "metadata": {},
   "source": [
    "A more precision like hour"
   ]
  },
  {
   "cell_type": "code",
   "execution_count": 8,
   "id": "fbb29eb9",
   "metadata": {},
   "outputs": [
    {
     "data": {
      "text/plain": [
       "array(['2022-07-11T13', '2022-06-01T14'], dtype='datetime64[h]')"
      ]
     },
     "execution_count": 8,
     "metadata": {},
     "output_type": "execute_result"
    }
   ],
   "source": [
    "np.array(['2022-07-11T13', '2022-06-01T14'], dtype='datetime64[h]')"
   ]
  },
  {
   "cell_type": "code",
   "execution_count": 12,
   "id": "03bcf697",
   "metadata": {},
   "outputs": [
    {
     "data": {
      "text/plain": [
       "array(['1995', '2002', '2009', '2016'], dtype='datetime64[Y]')"
      ]
     },
     "execution_count": 12,
     "metadata": {},
     "output_type": "execute_result"
    }
   ],
   "source": [
    "np.arange('1995-07-11', '2022-07-11', step=7, dtype='datetime64[Y]')"
   ]
  },
  {
   "cell_type": "code",
   "execution_count": 18,
   "id": "446d7604",
   "metadata": {},
   "outputs": [],
   "source": [
    "import pandas as pd"
   ]
  },
  {
   "cell_type": "code",
   "execution_count": 24,
   "id": "10847ef4",
   "metadata": {},
   "outputs": [
    {
     "data": {
      "text/plain": [
       "DatetimeIndex(['1995-07-31', '1995-08-31', '1995-09-30', '1995-10-31',\n",
       "               '1995-11-30', '1995-12-31', '1996-01-31'],\n",
       "              dtype='datetime64[ns]', freq='M')"
      ]
     },
     "execution_count": 24,
     "metadata": {},
     "output_type": "execute_result"
    }
   ],
   "source": [
    "pd.date_range(start='1995-07-11', periods=7, freq='M')"
   ]
  },
  {
   "cell_type": "code",
   "execution_count": 25,
   "id": "61cb773e",
   "metadata": {},
   "outputs": [
    {
     "data": {
      "text/plain": [
       "DatetimeIndex(['1995-07-11', '1995-07-12', '1995-07-13', '1995-07-14',\n",
       "               '1995-07-15', '1995-07-16', '1995-07-17'],\n",
       "              dtype='datetime64[ns]', freq='D')"
      ]
     },
     "execution_count": 25,
     "metadata": {},
     "output_type": "execute_result"
    }
   ],
   "source": [
    "pd.date_range(start='1995-07-11', periods=7, freq='D')"
   ]
  },
  {
   "cell_type": "code",
   "execution_count": 27,
   "id": "243391ea",
   "metadata": {},
   "outputs": [
    {
     "data": {
      "text/plain": [
       "DatetimeIndex(['2017-01-31', '2017-02-28', '2017-03-31', '2017-04-30',\n",
       "               '2017-05-31', '2017-06-30', '2017-07-31'],\n",
       "              dtype='datetime64[ns]', freq='M')"
      ]
     },
     "execution_count": 27,
     "metadata": {},
     "output_type": "execute_result"
    }
   ],
   "source": [
    "pd.date_range(start='Jan 01, 2017', periods=7, freq='M')"
   ]
  },
  {
   "cell_type": "code",
   "execution_count": 22,
   "id": "a8ce9246",
   "metadata": {},
   "outputs": [
    {
     "data": {
      "text/plain": [
       "DatetimeIndex(['1995-07-11 00:00:00', '2000-01-09 16:00:00',\n",
       "               '2004-07-10 08:00:00', '2009-01-09 00:00:00',\n",
       "               '2013-07-10 16:00:00', '2018-01-09 08:00:00',\n",
       "               '2022-07-11 00:00:00'],\n",
       "              dtype='datetime64[ns]', freq=None)"
      ]
     },
     "execution_count": 22,
     "metadata": {},
     "output_type": "execute_result"
    }
   ],
   "source": [
    "pd.date_range(start='1995-07-11', end='2022-07-11', periods=7)"
   ]
  },
  {
   "cell_type": "code",
   "execution_count": 28,
   "id": "f3af10c9",
   "metadata": {},
   "outputs": [
    {
     "data": {
      "text/plain": [
       "DatetimeIndex(['2018-11-07', '1964-06-01'], dtype='datetime64[ns]', freq=None)"
      ]
     },
     "execution_count": 28,
     "metadata": {},
     "output_type": "execute_result"
    }
   ],
   "source": [
    "pd.to_datetime(['11/07/2018', 'June 01, 1964'])"
   ]
  },
  {
   "cell_type": "code",
   "execution_count": 36,
   "id": "32f0aa88",
   "metadata": {},
   "outputs": [
    {
     "data": {
      "text/plain": [
       "DatetimeIndex(['2018-07-11', '1964-06-01'], dtype='datetime64[ns]', freq=None)"
      ]
     },
     "execution_count": 36,
     "metadata": {},
     "output_type": "execute_result"
    }
   ],
   "source": [
    "pd.to_datetime(['11/07/2018', '01/06/1964'], format='%d/%m/%Y')"
   ]
  },
  {
   "cell_type": "code",
   "execution_count": 44,
   "id": "c5103e8a",
   "metadata": {},
   "outputs": [
    {
     "data": {
      "text/html": [
       "<div>\n",
       "<style scoped>\n",
       "    .dataframe tbody tr th:only-of-type {\n",
       "        vertical-align: middle;\n",
       "    }\n",
       "\n",
       "    .dataframe tbody tr th {\n",
       "        vertical-align: top;\n",
       "    }\n",
       "\n",
       "    .dataframe thead th {\n",
       "        text-align: right;\n",
       "    }\n",
       "</style>\n",
       "<table border=\"1\" class=\"dataframe\">\n",
       "  <thead>\n",
       "    <tr style=\"text-align: right;\">\n",
       "      <th></th>\n",
       "      <th>X</th>\n",
       "      <th>Y</th>\n",
       "    </tr>\n",
       "  </thead>\n",
       "  <tbody>\n",
       "    <tr>\n",
       "      <th>1995-12-31</th>\n",
       "      <td>1.277997</td>\n",
       "      <td>-0.604354</td>\n",
       "    </tr>\n",
       "    <tr>\n",
       "      <th>1996-12-31</th>\n",
       "      <td>-0.091376</td>\n",
       "      <td>0.139838</td>\n",
       "    </tr>\n",
       "    <tr>\n",
       "      <th>1997-12-31</th>\n",
       "      <td>-1.414277</td>\n",
       "      <td>0.775581</td>\n",
       "    </tr>\n",
       "    <tr>\n",
       "      <th>1998-12-31</th>\n",
       "      <td>-0.419976</td>\n",
       "      <td>1.319914</td>\n",
       "    </tr>\n",
       "  </tbody>\n",
       "</table>\n",
       "</div>"
      ],
      "text/plain": [
       "                   X         Y\n",
       "1995-12-31  1.277997 -0.604354\n",
       "1996-12-31 -0.091376  0.139838\n",
       "1997-12-31 -1.414277  0.775581\n",
       "1998-12-31 -0.419976  1.319914"
      ]
     },
     "execution_count": 44,
     "metadata": {},
     "output_type": "execute_result"
    }
   ],
   "source": [
    "data = np.random.randn(4,2)\n",
    "cols = ['X', 'Y']\n",
    "idx = pd.date_range('1995/07/11', periods=4, freq='Y')\n",
    "df = pd.DataFrame(data, index=idx,columns=cols)\n",
    "df"
   ]
  },
  {
   "cell_type": "code",
   "execution_count": 45,
   "id": "0ca5f77b",
   "metadata": {},
   "outputs": [
    {
     "data": {
      "text/plain": [
       "DatetimeIndex(['1995-12-31', '1996-12-31', '1997-12-31', '1998-12-31'], dtype='datetime64[ns]', freq='A-DEC')"
      ]
     },
     "execution_count": 45,
     "metadata": {},
     "output_type": "execute_result"
    }
   ],
   "source": [
    "df.index"
   ]
  },
  {
   "cell_type": "code",
   "execution_count": 46,
   "id": "851500d4",
   "metadata": {},
   "outputs": [
    {
     "data": {
      "text/plain": [
       "Timestamp('1998-12-31 00:00:00', freq='A-DEC')"
      ]
     },
     "execution_count": 46,
     "metadata": {},
     "output_type": "execute_result"
    }
   ],
   "source": [
    "df.index.max()"
   ]
  },
  {
   "cell_type": "code",
   "execution_count": 48,
   "id": "6c231f16",
   "metadata": {},
   "outputs": [
    {
     "data": {
      "text/plain": [
       "3"
      ]
     },
     "execution_count": 48,
     "metadata": {},
     "output_type": "execute_result"
    }
   ],
   "source": [
    "df.index.argmax()"
   ]
  },
  {
   "cell_type": "code",
   "execution_count": 51,
   "id": "c5d110d9",
   "metadata": {},
   "outputs": [
    {
     "data": {
      "text/plain": [
       "-0.41997562406961186"
      ]
     },
     "execution_count": 51,
     "metadata": {},
     "output_type": "execute_result"
    }
   ],
   "source": [
    "df['X'][df.index[df.index.argmax()]]"
   ]
  },
  {
   "cell_type": "code",
   "execution_count": null,
   "id": "44efebab",
   "metadata": {},
   "outputs": [],
   "source": []
  }
 ],
 "metadata": {
  "kernelspec": {
   "display_name": "Python 3 (ipykernel)",
   "language": "python",
   "name": "python3"
  },
  "language_info": {
   "codemirror_mode": {
    "name": "ipython",
    "version": 3
   },
   "file_extension": ".py",
   "mimetype": "text/x-python",
   "name": "python",
   "nbconvert_exporter": "python",
   "pygments_lexer": "ipython3",
   "version": "3.9.7"
  }
 },
 "nbformat": 4,
 "nbformat_minor": 5
}
